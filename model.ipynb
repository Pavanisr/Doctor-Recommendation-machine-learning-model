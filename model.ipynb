{
 "cells": [
  {
   "cell_type": "code",
   "execution_count": 3,
   "metadata": {},
   "outputs": [
    {
     "name": "stdout",
     "output_type": "stream",
     "text": [
      "Requirement already satisfied: numpy in c:\\users\\user\\desktop\\ml projects\\doctor recommender system\\model\\env\\lib\\site-packages (2.1.3)\n",
      "Note: you may need to restart the kernel to use updated packages.\n"
     ]
    },
    {
     "name": "stderr",
     "output_type": "stream",
     "text": [
      "\n",
      "[notice] A new release of pip is available: 24.2 -> 24.3.1\n",
      "[notice] To update, run: python.exe -m pip install --upgrade pip\n"
     ]
    }
   ],
   "source": [
    "pip install numpy"
   ]
  },
  {
   "cell_type": "code",
   "execution_count": 4,
   "metadata": {},
   "outputs": [
    {
     "name": "stdout",
     "output_type": "stream",
     "text": [
      "Requirement already satisfied: pandas in c:\\users\\user\\desktop\\ml projects\\doctor recommender system\\model\\env\\lib\\site-packages (2.2.3)\n",
      "Requirement already satisfied: numpy>=1.26.0 in c:\\users\\user\\desktop\\ml projects\\doctor recommender system\\model\\env\\lib\\site-packages (from pandas) (2.1.3)\n",
      "Requirement already satisfied: python-dateutil>=2.8.2 in c:\\users\\user\\desktop\\ml projects\\doctor recommender system\\model\\env\\lib\\site-packages (from pandas) (2.9.0.post0)\n",
      "Requirement already satisfied: pytz>=2020.1 in c:\\users\\user\\desktop\\ml projects\\doctor recommender system\\model\\env\\lib\\site-packages (from pandas) (2024.2)\n",
      "Requirement already satisfied: tzdata>=2022.7 in c:\\users\\user\\desktop\\ml projects\\doctor recommender system\\model\\env\\lib\\site-packages (from pandas) (2024.2)\n",
      "Requirement already satisfied: six>=1.5 in c:\\users\\user\\desktop\\ml projects\\doctor recommender system\\model\\env\\lib\\site-packages (from python-dateutil>=2.8.2->pandas) (1.16.0)\n",
      "Note: you may need to restart the kernel to use updated packages.\n"
     ]
    },
    {
     "name": "stderr",
     "output_type": "stream",
     "text": [
      "\n",
      "[notice] A new release of pip is available: 24.2 -> 24.3.1\n",
      "[notice] To update, run: python.exe -m pip install --upgrade pip\n"
     ]
    }
   ],
   "source": [
    "pip install pandas"
   ]
  },
  {
   "cell_type": "code",
   "execution_count": 5,
   "metadata": {},
   "outputs": [],
   "source": [
    "import pandas as pd\n",
    "import numpy as np"
   ]
  },
  {
   "cell_type": "code",
   "execution_count": 6,
   "metadata": {},
   "outputs": [],
   "source": [
    "url=\"Specialist.csv\"\n",
    "data=pd.read_csv(url,encoding=\"latin-1\")"
   ]
  },
  {
   "cell_type": "code",
   "execution_count": 7,
   "metadata": {},
   "outputs": [
    {
     "data": {
      "text/html": [
       "<div>\n",
       "<style scoped>\n",
       "    .dataframe tbody tr th:only-of-type {\n",
       "        vertical-align: middle;\n",
       "    }\n",
       "\n",
       "    .dataframe tbody tr th {\n",
       "        vertical-align: top;\n",
       "    }\n",
       "\n",
       "    .dataframe thead th {\n",
       "        text-align: right;\n",
       "    }\n",
       "</style>\n",
       "<table border=\"1\" class=\"dataframe\">\n",
       "  <thead>\n",
       "    <tr style=\"text-align: right;\">\n",
       "      <th></th>\n",
       "      <th>Unnamed: 0</th>\n",
       "      <th>itching</th>\n",
       "      <th>skin_rash</th>\n",
       "      <th>nodal_skin_eruptions</th>\n",
       "      <th>dischromic _patches</th>\n",
       "      <th>continuous_sneezing</th>\n",
       "      <th>shivering</th>\n",
       "      <th>chills</th>\n",
       "      <th>watering_from_eyes</th>\n",
       "      <th>stomach_pain</th>\n",
       "      <th>...</th>\n",
       "      <th>foul_smell_of urine</th>\n",
       "      <th>continuous_feel_of_urine</th>\n",
       "      <th>skin_peeling</th>\n",
       "      <th>silver_like_dusting</th>\n",
       "      <th>small_dents_in_nails</th>\n",
       "      <th>inflammatory_nails</th>\n",
       "      <th>blister</th>\n",
       "      <th>red_sore_around_nose</th>\n",
       "      <th>yellow_crust_ooze</th>\n",
       "      <th>Disease</th>\n",
       "    </tr>\n",
       "  </thead>\n",
       "  <tbody>\n",
       "    <tr>\n",
       "      <th>0</th>\n",
       "      <td>0</td>\n",
       "      <td>1</td>\n",
       "      <td>1</td>\n",
       "      <td>1</td>\n",
       "      <td>1</td>\n",
       "      <td>0</td>\n",
       "      <td>0</td>\n",
       "      <td>0</td>\n",
       "      <td>0</td>\n",
       "      <td>0</td>\n",
       "      <td>...</td>\n",
       "      <td>0</td>\n",
       "      <td>0</td>\n",
       "      <td>0</td>\n",
       "      <td>0</td>\n",
       "      <td>0</td>\n",
       "      <td>0</td>\n",
       "      <td>0</td>\n",
       "      <td>0</td>\n",
       "      <td>0</td>\n",
       "      <td>Dermatologist</td>\n",
       "    </tr>\n",
       "    <tr>\n",
       "      <th>1</th>\n",
       "      <td>1</td>\n",
       "      <td>0</td>\n",
       "      <td>1</td>\n",
       "      <td>1</td>\n",
       "      <td>1</td>\n",
       "      <td>0</td>\n",
       "      <td>0</td>\n",
       "      <td>0</td>\n",
       "      <td>0</td>\n",
       "      <td>0</td>\n",
       "      <td>...</td>\n",
       "      <td>0</td>\n",
       "      <td>0</td>\n",
       "      <td>0</td>\n",
       "      <td>0</td>\n",
       "      <td>0</td>\n",
       "      <td>0</td>\n",
       "      <td>0</td>\n",
       "      <td>0</td>\n",
       "      <td>0</td>\n",
       "      <td>Dermatologist</td>\n",
       "    </tr>\n",
       "    <tr>\n",
       "      <th>2</th>\n",
       "      <td>2</td>\n",
       "      <td>1</td>\n",
       "      <td>0</td>\n",
       "      <td>1</td>\n",
       "      <td>1</td>\n",
       "      <td>0</td>\n",
       "      <td>0</td>\n",
       "      <td>0</td>\n",
       "      <td>0</td>\n",
       "      <td>0</td>\n",
       "      <td>...</td>\n",
       "      <td>0</td>\n",
       "      <td>0</td>\n",
       "      <td>0</td>\n",
       "      <td>0</td>\n",
       "      <td>0</td>\n",
       "      <td>0</td>\n",
       "      <td>0</td>\n",
       "      <td>0</td>\n",
       "      <td>0</td>\n",
       "      <td>Dermatologist</td>\n",
       "    </tr>\n",
       "    <tr>\n",
       "      <th>3</th>\n",
       "      <td>3</td>\n",
       "      <td>1</td>\n",
       "      <td>1</td>\n",
       "      <td>0</td>\n",
       "      <td>1</td>\n",
       "      <td>0</td>\n",
       "      <td>0</td>\n",
       "      <td>0</td>\n",
       "      <td>0</td>\n",
       "      <td>0</td>\n",
       "      <td>...</td>\n",
       "      <td>0</td>\n",
       "      <td>0</td>\n",
       "      <td>0</td>\n",
       "      <td>0</td>\n",
       "      <td>0</td>\n",
       "      <td>0</td>\n",
       "      <td>0</td>\n",
       "      <td>0</td>\n",
       "      <td>0</td>\n",
       "      <td>Dermatologist</td>\n",
       "    </tr>\n",
       "    <tr>\n",
       "      <th>4</th>\n",
       "      <td>4</td>\n",
       "      <td>1</td>\n",
       "      <td>1</td>\n",
       "      <td>1</td>\n",
       "      <td>0</td>\n",
       "      <td>0</td>\n",
       "      <td>0</td>\n",
       "      <td>0</td>\n",
       "      <td>0</td>\n",
       "      <td>0</td>\n",
       "      <td>...</td>\n",
       "      <td>0</td>\n",
       "      <td>0</td>\n",
       "      <td>0</td>\n",
       "      <td>0</td>\n",
       "      <td>0</td>\n",
       "      <td>0</td>\n",
       "      <td>0</td>\n",
       "      <td>0</td>\n",
       "      <td>0</td>\n",
       "      <td>Dermatologist</td>\n",
       "    </tr>\n",
       "  </tbody>\n",
       "</table>\n",
       "<p>5 rows × 133 columns</p>\n",
       "</div>"
      ],
      "text/plain": [
       "   Unnamed: 0  itching   skin_rash   nodal_skin_eruptions  \\\n",
       "0           0        1           1                      1   \n",
       "1           1        0           1                      1   \n",
       "2           2        1           0                      1   \n",
       "3           3        1           1                      0   \n",
       "4           4        1           1                      1   \n",
       "\n",
       "    dischromic _patches   continuous_sneezing   shivering   chills  \\\n",
       "0                     1                     0           0        0   \n",
       "1                     1                     0           0        0   \n",
       "2                     1                     0           0        0   \n",
       "3                     1                     0           0        0   \n",
       "4                     0                     0           0        0   \n",
       "\n",
       "    watering_from_eyes   stomach_pain  ...   foul_smell_of urine  \\\n",
       "0                    0              0  ...                     0   \n",
       "1                    0              0  ...                     0   \n",
       "2                    0              0  ...                     0   \n",
       "3                    0              0  ...                     0   \n",
       "4                    0              0  ...                     0   \n",
       "\n",
       "    continuous_feel_of_urine   skin_peeling   silver_like_dusting  \\\n",
       "0                          0              0                     0   \n",
       "1                          0              0                     0   \n",
       "2                          0              0                     0   \n",
       "3                          0              0                     0   \n",
       "4                          0              0                     0   \n",
       "\n",
       "    small_dents_in_nails   inflammatory_nails   blister  \\\n",
       "0                      0                    0         0   \n",
       "1                      0                    0         0   \n",
       "2                      0                    0         0   \n",
       "3                      0                    0         0   \n",
       "4                      0                    0         0   \n",
       "\n",
       "    red_sore_around_nose   yellow_crust_ooze        Disease  \n",
       "0                      0                   0  Dermatologist  \n",
       "1                      0                   0  Dermatologist  \n",
       "2                      0                   0  Dermatologist  \n",
       "3                      0                   0  Dermatologist  \n",
       "4                      0                   0  Dermatologist  \n",
       "\n",
       "[5 rows x 133 columns]"
      ]
     },
     "execution_count": 7,
     "metadata": {},
     "output_type": "execute_result"
    }
   ],
   "source": [
    "data.head()"
   ]
  },
  {
   "cell_type": "code",
   "execution_count": 8,
   "metadata": {},
   "outputs": [
    {
     "data": {
      "text/plain": [
       "(4920, 133)"
      ]
     },
     "execution_count": 8,
     "metadata": {},
     "output_type": "execute_result"
    }
   ],
   "source": [
    "data.shape"
   ]
  },
  {
   "cell_type": "code",
   "execution_count": 9,
   "metadata": {},
   "outputs": [
    {
     "data": {
      "text/html": [
       "<div>\n",
       "<style scoped>\n",
       "    .dataframe tbody tr th:only-of-type {\n",
       "        vertical-align: middle;\n",
       "    }\n",
       "\n",
       "    .dataframe tbody tr th {\n",
       "        vertical-align: top;\n",
       "    }\n",
       "\n",
       "    .dataframe thead th {\n",
       "        text-align: right;\n",
       "    }\n",
       "</style>\n",
       "<table border=\"1\" class=\"dataframe\">\n",
       "  <thead>\n",
       "    <tr style=\"text-align: right;\">\n",
       "      <th></th>\n",
       "      <th>Unnamed: 0</th>\n",
       "      <th>itching</th>\n",
       "      <th>skin_rash</th>\n",
       "      <th>nodal_skin_eruptions</th>\n",
       "      <th>dischromic _patches</th>\n",
       "      <th>continuous_sneezing</th>\n",
       "      <th>shivering</th>\n",
       "      <th>chills</th>\n",
       "      <th>watering_from_eyes</th>\n",
       "      <th>stomach_pain</th>\n",
       "      <th>...</th>\n",
       "      <th>foul_smell_of urine</th>\n",
       "      <th>continuous_feel_of_urine</th>\n",
       "      <th>skin_peeling</th>\n",
       "      <th>silver_like_dusting</th>\n",
       "      <th>small_dents_in_nails</th>\n",
       "      <th>inflammatory_nails</th>\n",
       "      <th>blister</th>\n",
       "      <th>red_sore_around_nose</th>\n",
       "      <th>yellow_crust_ooze</th>\n",
       "      <th>Disease</th>\n",
       "    </tr>\n",
       "  </thead>\n",
       "  <tbody>\n",
       "    <tr>\n",
       "      <th>0</th>\n",
       "      <td>False</td>\n",
       "      <td>False</td>\n",
       "      <td>False</td>\n",
       "      <td>False</td>\n",
       "      <td>False</td>\n",
       "      <td>False</td>\n",
       "      <td>False</td>\n",
       "      <td>False</td>\n",
       "      <td>False</td>\n",
       "      <td>False</td>\n",
       "      <td>...</td>\n",
       "      <td>False</td>\n",
       "      <td>False</td>\n",
       "      <td>False</td>\n",
       "      <td>False</td>\n",
       "      <td>False</td>\n",
       "      <td>False</td>\n",
       "      <td>False</td>\n",
       "      <td>False</td>\n",
       "      <td>False</td>\n",
       "      <td>False</td>\n",
       "    </tr>\n",
       "    <tr>\n",
       "      <th>1</th>\n",
       "      <td>False</td>\n",
       "      <td>False</td>\n",
       "      <td>False</td>\n",
       "      <td>False</td>\n",
       "      <td>False</td>\n",
       "      <td>False</td>\n",
       "      <td>False</td>\n",
       "      <td>False</td>\n",
       "      <td>False</td>\n",
       "      <td>False</td>\n",
       "      <td>...</td>\n",
       "      <td>False</td>\n",
       "      <td>False</td>\n",
       "      <td>False</td>\n",
       "      <td>False</td>\n",
       "      <td>False</td>\n",
       "      <td>False</td>\n",
       "      <td>False</td>\n",
       "      <td>False</td>\n",
       "      <td>False</td>\n",
       "      <td>False</td>\n",
       "    </tr>\n",
       "    <tr>\n",
       "      <th>2</th>\n",
       "      <td>False</td>\n",
       "      <td>False</td>\n",
       "      <td>False</td>\n",
       "      <td>False</td>\n",
       "      <td>False</td>\n",
       "      <td>False</td>\n",
       "      <td>False</td>\n",
       "      <td>False</td>\n",
       "      <td>False</td>\n",
       "      <td>False</td>\n",
       "      <td>...</td>\n",
       "      <td>False</td>\n",
       "      <td>False</td>\n",
       "      <td>False</td>\n",
       "      <td>False</td>\n",
       "      <td>False</td>\n",
       "      <td>False</td>\n",
       "      <td>False</td>\n",
       "      <td>False</td>\n",
       "      <td>False</td>\n",
       "      <td>False</td>\n",
       "    </tr>\n",
       "    <tr>\n",
       "      <th>3</th>\n",
       "      <td>False</td>\n",
       "      <td>False</td>\n",
       "      <td>False</td>\n",
       "      <td>False</td>\n",
       "      <td>False</td>\n",
       "      <td>False</td>\n",
       "      <td>False</td>\n",
       "      <td>False</td>\n",
       "      <td>False</td>\n",
       "      <td>False</td>\n",
       "      <td>...</td>\n",
       "      <td>False</td>\n",
       "      <td>False</td>\n",
       "      <td>False</td>\n",
       "      <td>False</td>\n",
       "      <td>False</td>\n",
       "      <td>False</td>\n",
       "      <td>False</td>\n",
       "      <td>False</td>\n",
       "      <td>False</td>\n",
       "      <td>False</td>\n",
       "    </tr>\n",
       "    <tr>\n",
       "      <th>4</th>\n",
       "      <td>False</td>\n",
       "      <td>False</td>\n",
       "      <td>False</td>\n",
       "      <td>False</td>\n",
       "      <td>False</td>\n",
       "      <td>False</td>\n",
       "      <td>False</td>\n",
       "      <td>False</td>\n",
       "      <td>False</td>\n",
       "      <td>False</td>\n",
       "      <td>...</td>\n",
       "      <td>False</td>\n",
       "      <td>False</td>\n",
       "      <td>False</td>\n",
       "      <td>False</td>\n",
       "      <td>False</td>\n",
       "      <td>False</td>\n",
       "      <td>False</td>\n",
       "      <td>False</td>\n",
       "      <td>False</td>\n",
       "      <td>False</td>\n",
       "    </tr>\n",
       "    <tr>\n",
       "      <th>...</th>\n",
       "      <td>...</td>\n",
       "      <td>...</td>\n",
       "      <td>...</td>\n",
       "      <td>...</td>\n",
       "      <td>...</td>\n",
       "      <td>...</td>\n",
       "      <td>...</td>\n",
       "      <td>...</td>\n",
       "      <td>...</td>\n",
       "      <td>...</td>\n",
       "      <td>...</td>\n",
       "      <td>...</td>\n",
       "      <td>...</td>\n",
       "      <td>...</td>\n",
       "      <td>...</td>\n",
       "      <td>...</td>\n",
       "      <td>...</td>\n",
       "      <td>...</td>\n",
       "      <td>...</td>\n",
       "      <td>...</td>\n",
       "      <td>...</td>\n",
       "    </tr>\n",
       "    <tr>\n",
       "      <th>4915</th>\n",
       "      <td>False</td>\n",
       "      <td>False</td>\n",
       "      <td>False</td>\n",
       "      <td>False</td>\n",
       "      <td>False</td>\n",
       "      <td>False</td>\n",
       "      <td>False</td>\n",
       "      <td>False</td>\n",
       "      <td>False</td>\n",
       "      <td>False</td>\n",
       "      <td>...</td>\n",
       "      <td>False</td>\n",
       "      <td>False</td>\n",
       "      <td>False</td>\n",
       "      <td>False</td>\n",
       "      <td>False</td>\n",
       "      <td>False</td>\n",
       "      <td>False</td>\n",
       "      <td>False</td>\n",
       "      <td>False</td>\n",
       "      <td>False</td>\n",
       "    </tr>\n",
       "    <tr>\n",
       "      <th>4916</th>\n",
       "      <td>False</td>\n",
       "      <td>False</td>\n",
       "      <td>False</td>\n",
       "      <td>False</td>\n",
       "      <td>False</td>\n",
       "      <td>False</td>\n",
       "      <td>False</td>\n",
       "      <td>False</td>\n",
       "      <td>False</td>\n",
       "      <td>False</td>\n",
       "      <td>...</td>\n",
       "      <td>False</td>\n",
       "      <td>False</td>\n",
       "      <td>False</td>\n",
       "      <td>False</td>\n",
       "      <td>False</td>\n",
       "      <td>False</td>\n",
       "      <td>False</td>\n",
       "      <td>False</td>\n",
       "      <td>False</td>\n",
       "      <td>False</td>\n",
       "    </tr>\n",
       "    <tr>\n",
       "      <th>4917</th>\n",
       "      <td>False</td>\n",
       "      <td>False</td>\n",
       "      <td>False</td>\n",
       "      <td>False</td>\n",
       "      <td>False</td>\n",
       "      <td>False</td>\n",
       "      <td>False</td>\n",
       "      <td>False</td>\n",
       "      <td>False</td>\n",
       "      <td>False</td>\n",
       "      <td>...</td>\n",
       "      <td>False</td>\n",
       "      <td>False</td>\n",
       "      <td>False</td>\n",
       "      <td>False</td>\n",
       "      <td>False</td>\n",
       "      <td>False</td>\n",
       "      <td>False</td>\n",
       "      <td>False</td>\n",
       "      <td>False</td>\n",
       "      <td>False</td>\n",
       "    </tr>\n",
       "    <tr>\n",
       "      <th>4918</th>\n",
       "      <td>False</td>\n",
       "      <td>False</td>\n",
       "      <td>False</td>\n",
       "      <td>False</td>\n",
       "      <td>False</td>\n",
       "      <td>False</td>\n",
       "      <td>False</td>\n",
       "      <td>False</td>\n",
       "      <td>False</td>\n",
       "      <td>False</td>\n",
       "      <td>...</td>\n",
       "      <td>False</td>\n",
       "      <td>False</td>\n",
       "      <td>False</td>\n",
       "      <td>False</td>\n",
       "      <td>False</td>\n",
       "      <td>False</td>\n",
       "      <td>False</td>\n",
       "      <td>False</td>\n",
       "      <td>False</td>\n",
       "      <td>False</td>\n",
       "    </tr>\n",
       "    <tr>\n",
       "      <th>4919</th>\n",
       "      <td>False</td>\n",
       "      <td>False</td>\n",
       "      <td>False</td>\n",
       "      <td>False</td>\n",
       "      <td>False</td>\n",
       "      <td>False</td>\n",
       "      <td>False</td>\n",
       "      <td>False</td>\n",
       "      <td>False</td>\n",
       "      <td>False</td>\n",
       "      <td>...</td>\n",
       "      <td>False</td>\n",
       "      <td>False</td>\n",
       "      <td>False</td>\n",
       "      <td>False</td>\n",
       "      <td>False</td>\n",
       "      <td>False</td>\n",
       "      <td>False</td>\n",
       "      <td>False</td>\n",
       "      <td>False</td>\n",
       "      <td>False</td>\n",
       "    </tr>\n",
       "  </tbody>\n",
       "</table>\n",
       "<p>4920 rows × 133 columns</p>\n",
       "</div>"
      ],
      "text/plain": [
       "      Unnamed: 0  itching   skin_rash   nodal_skin_eruptions  \\\n",
       "0          False    False       False                  False   \n",
       "1          False    False       False                  False   \n",
       "2          False    False       False                  False   \n",
       "3          False    False       False                  False   \n",
       "4          False    False       False                  False   \n",
       "...          ...      ...         ...                    ...   \n",
       "4915       False    False       False                  False   \n",
       "4916       False    False       False                  False   \n",
       "4917       False    False       False                  False   \n",
       "4918       False    False       False                  False   \n",
       "4919       False    False       False                  False   \n",
       "\n",
       "       dischromic _patches   continuous_sneezing   shivering   chills  \\\n",
       "0                    False                 False       False    False   \n",
       "1                    False                 False       False    False   \n",
       "2                    False                 False       False    False   \n",
       "3                    False                 False       False    False   \n",
       "4                    False                 False       False    False   \n",
       "...                    ...                   ...         ...      ...   \n",
       "4915                 False                 False       False    False   \n",
       "4916                 False                 False       False    False   \n",
       "4917                 False                 False       False    False   \n",
       "4918                 False                 False       False    False   \n",
       "4919                 False                 False       False    False   \n",
       "\n",
       "       watering_from_eyes   stomach_pain  ...   foul_smell_of urine  \\\n",
       "0                   False          False  ...                 False   \n",
       "1                   False          False  ...                 False   \n",
       "2                   False          False  ...                 False   \n",
       "3                   False          False  ...                 False   \n",
       "4                   False          False  ...                 False   \n",
       "...                   ...            ...  ...                   ...   \n",
       "4915                False          False  ...                 False   \n",
       "4916                False          False  ...                 False   \n",
       "4917                False          False  ...                 False   \n",
       "4918                False          False  ...                 False   \n",
       "4919                False          False  ...                 False   \n",
       "\n",
       "       continuous_feel_of_urine   skin_peeling   silver_like_dusting  \\\n",
       "0                         False          False                 False   \n",
       "1                         False          False                 False   \n",
       "2                         False          False                 False   \n",
       "3                         False          False                 False   \n",
       "4                         False          False                 False   \n",
       "...                         ...            ...                   ...   \n",
       "4915                      False          False                 False   \n",
       "4916                      False          False                 False   \n",
       "4917                      False          False                 False   \n",
       "4918                      False          False                 False   \n",
       "4919                      False          False                 False   \n",
       "\n",
       "       small_dents_in_nails   inflammatory_nails   blister  \\\n",
       "0                     False                False     False   \n",
       "1                     False                False     False   \n",
       "2                     False                False     False   \n",
       "3                     False                False     False   \n",
       "4                     False                False     False   \n",
       "...                     ...                  ...       ...   \n",
       "4915                  False                False     False   \n",
       "4916                  False                False     False   \n",
       "4917                  False                False     False   \n",
       "4918                  False                False     False   \n",
       "4919                  False                False     False   \n",
       "\n",
       "       red_sore_around_nose   yellow_crust_ooze  Disease  \n",
       "0                     False               False    False  \n",
       "1                     False               False    False  \n",
       "2                     False               False    False  \n",
       "3                     False               False    False  \n",
       "4                     False               False    False  \n",
       "...                     ...                 ...      ...  \n",
       "4915                  False               False    False  \n",
       "4916                  False               False    False  \n",
       "4917                  False               False    False  \n",
       "4918                  False               False    False  \n",
       "4919                  False               False    False  \n",
       "\n",
       "[4920 rows x 133 columns]"
      ]
     },
     "execution_count": 9,
     "metadata": {},
     "output_type": "execute_result"
    }
   ],
   "source": [
    "data.isnull()"
   ]
  },
  {
   "cell_type": "code",
   "execution_count": 10,
   "metadata": {},
   "outputs": [
    {
     "data": {
      "text/plain": [
       "Unnamed: 0               0\n",
       "itching                  0\n",
       " skin_rash               0\n",
       " nodal_skin_eruptions    0\n",
       " dischromic _patches     0\n",
       "                        ..\n",
       " inflammatory_nails      0\n",
       " blister                 0\n",
       " red_sore_around_nose    0\n",
       " yellow_crust_ooze       0\n",
       "Disease                  0\n",
       "Length: 133, dtype: int64"
      ]
     },
     "execution_count": 10,
     "metadata": {},
     "output_type": "execute_result"
    }
   ],
   "source": [
    "data.isnull().sum()"
   ]
  },
  {
   "cell_type": "code",
   "execution_count": 11,
   "metadata": {},
   "outputs": [
    {
     "data": {
      "text/plain": [
       "<bound method DataFrame.info of       Unnamed: 0  itching   skin_rash   nodal_skin_eruptions  \\\n",
       "0              0        1           1                      1   \n",
       "1              1        0           1                      1   \n",
       "2              2        1           0                      1   \n",
       "3              3        1           1                      0   \n",
       "4              4        1           1                      1   \n",
       "...          ...      ...         ...                    ...   \n",
       "4915        4915        0           0                      0   \n",
       "4916        4916        0           1                      0   \n",
       "4917        4917        0           0                      0   \n",
       "4918        4918        0           1                      0   \n",
       "4919        4919        0           1                      0   \n",
       "\n",
       "       dischromic _patches   continuous_sneezing   shivering   chills  \\\n",
       "0                        1                     0           0        0   \n",
       "1                        1                     0           0        0   \n",
       "2                        1                     0           0        0   \n",
       "3                        1                     0           0        0   \n",
       "4                        0                     0           0        0   \n",
       "...                    ...                   ...         ...      ...   \n",
       "4915                     0                     0           0        0   \n",
       "4916                     0                     0           0        0   \n",
       "4917                     0                     0           0        0   \n",
       "4918                     0                     0           0        0   \n",
       "4919                     0                     0           0        0   \n",
       "\n",
       "       watering_from_eyes   stomach_pain  ...   foul_smell_of urine  \\\n",
       "0                       0              0  ...                     0   \n",
       "1                       0              0  ...                     0   \n",
       "2                       0              0  ...                     0   \n",
       "3                       0              0  ...                     0   \n",
       "4                       0              0  ...                     0   \n",
       "...                   ...            ...  ...                   ...   \n",
       "4915                    0              0  ...                     0   \n",
       "4916                    0              0  ...                     0   \n",
       "4917                    0              0  ...                     1   \n",
       "4918                    0              0  ...                     0   \n",
       "4919                    0              0  ...                     0   \n",
       "\n",
       "       continuous_feel_of_urine   skin_peeling   silver_like_dusting  \\\n",
       "0                             0              0                     0   \n",
       "1                             0              0                     0   \n",
       "2                             0              0                     0   \n",
       "3                             0              0                     0   \n",
       "4                             0              0                     0   \n",
       "...                         ...            ...                   ...   \n",
       "4915                          0              0                     0   \n",
       "4916                          0              0                     0   \n",
       "4917                          1              0                     0   \n",
       "4918                          0              1                     1   \n",
       "4919                          0              0                     0   \n",
       "\n",
       "       small_dents_in_nails   inflammatory_nails   blister  \\\n",
       "0                         0                    0         0   \n",
       "1                         0                    0         0   \n",
       "2                         0                    0         0   \n",
       "3                         0                    0         0   \n",
       "4                         0                    0         0   \n",
       "...                     ...                  ...       ...   \n",
       "4915                      0                    0         0   \n",
       "4916                      0                    0         0   \n",
       "4917                      0                    0         0   \n",
       "4918                      1                    1         0   \n",
       "4919                      0                    0         1   \n",
       "\n",
       "       red_sore_around_nose   yellow_crust_ooze           Disease  \n",
       "0                         0                   0     Dermatologist  \n",
       "1                         0                   0     Dermatologist  \n",
       "2                         0                   0     Dermatologist  \n",
       "3                         0                   0     Dermatologist  \n",
       "4                         0                   0     Dermatologist  \n",
       "...                     ...                 ...               ...  \n",
       "4915                      0                   0  Otolaryngologist  \n",
       "4916                      0                   0    Dermatologists  \n",
       "4917                      0                   0      Gynecologist  \n",
       "4918                      0                   0     Dermatologist  \n",
       "4919                      1                   1     Dermatologist  \n",
       "\n",
       "[4920 rows x 133 columns]>"
      ]
     },
     "execution_count": 11,
     "metadata": {},
     "output_type": "execute_result"
    }
   ],
   "source": [
    "data.info"
   ]
  },
  {
   "cell_type": "code",
   "execution_count": 12,
   "metadata": {},
   "outputs": [
    {
     "name": "stdout",
     "output_type": "stream",
     "text": [
      "<class 'pandas.core.frame.DataFrame'>\n",
      "RangeIndex: 4920 entries, 0 to 4919\n",
      "Columns: 133 entries, Unnamed: 0 to Disease\n",
      "dtypes: int64(132), object(1)\n",
      "memory usage: 5.0+ MB\n"
     ]
    }
   ],
   "source": [
    "data.info()"
   ]
  },
  {
   "cell_type": "code",
   "execution_count": 13,
   "metadata": {},
   "outputs": [
    {
     "data": {
      "text/plain": [
       "<bound method DataFrame.info of       Unnamed: 0  itching   skin_rash   nodal_skin_eruptions  \\\n",
       "0              0        1           1                      1   \n",
       "1              1        0           1                      1   \n",
       "2              2        1           0                      1   \n",
       "3              3        1           1                      0   \n",
       "4              4        1           1                      1   \n",
       "...          ...      ...         ...                    ...   \n",
       "4915        4915        0           0                      0   \n",
       "4916        4916        0           1                      0   \n",
       "4917        4917        0           0                      0   \n",
       "4918        4918        0           1                      0   \n",
       "4919        4919        0           1                      0   \n",
       "\n",
       "       dischromic _patches   continuous_sneezing   shivering   chills  \\\n",
       "0                        1                     0           0        0   \n",
       "1                        1                     0           0        0   \n",
       "2                        1                     0           0        0   \n",
       "3                        1                     0           0        0   \n",
       "4                        0                     0           0        0   \n",
       "...                    ...                   ...         ...      ...   \n",
       "4915                     0                     0           0        0   \n",
       "4916                     0                     0           0        0   \n",
       "4917                     0                     0           0        0   \n",
       "4918                     0                     0           0        0   \n",
       "4919                     0                     0           0        0   \n",
       "\n",
       "       watering_from_eyes   stomach_pain  ...   foul_smell_of urine  \\\n",
       "0                       0              0  ...                     0   \n",
       "1                       0              0  ...                     0   \n",
       "2                       0              0  ...                     0   \n",
       "3                       0              0  ...                     0   \n",
       "4                       0              0  ...                     0   \n",
       "...                   ...            ...  ...                   ...   \n",
       "4915                    0              0  ...                     0   \n",
       "4916                    0              0  ...                     0   \n",
       "4917                    0              0  ...                     1   \n",
       "4918                    0              0  ...                     0   \n",
       "4919                    0              0  ...                     0   \n",
       "\n",
       "       continuous_feel_of_urine   skin_peeling   silver_like_dusting  \\\n",
       "0                             0              0                     0   \n",
       "1                             0              0                     0   \n",
       "2                             0              0                     0   \n",
       "3                             0              0                     0   \n",
       "4                             0              0                     0   \n",
       "...                         ...            ...                   ...   \n",
       "4915                          0              0                     0   \n",
       "4916                          0              0                     0   \n",
       "4917                          1              0                     0   \n",
       "4918                          0              1                     1   \n",
       "4919                          0              0                     0   \n",
       "\n",
       "       small_dents_in_nails   inflammatory_nails   blister  \\\n",
       "0                         0                    0         0   \n",
       "1                         0                    0         0   \n",
       "2                         0                    0         0   \n",
       "3                         0                    0         0   \n",
       "4                         0                    0         0   \n",
       "...                     ...                  ...       ...   \n",
       "4915                      0                    0         0   \n",
       "4916                      0                    0         0   \n",
       "4917                      0                    0         0   \n",
       "4918                      1                    1         0   \n",
       "4919                      0                    0         1   \n",
       "\n",
       "       red_sore_around_nose   yellow_crust_ooze           Disease  \n",
       "0                         0                   0     Dermatologist  \n",
       "1                         0                   0     Dermatologist  \n",
       "2                         0                   0     Dermatologist  \n",
       "3                         0                   0     Dermatologist  \n",
       "4                         0                   0     Dermatologist  \n",
       "...                     ...                 ...               ...  \n",
       "4915                      0                   0  Otolaryngologist  \n",
       "4916                      0                   0    Dermatologists  \n",
       "4917                      0                   0      Gynecologist  \n",
       "4918                      0                   0     Dermatologist  \n",
       "4919                      1                   1     Dermatologist  \n",
       "\n",
       "[4920 rows x 133 columns]>"
      ]
     },
     "execution_count": 13,
     "metadata": {},
     "output_type": "execute_result"
    }
   ],
   "source": [
    "data.info"
   ]
  },
  {
   "cell_type": "code",
   "execution_count": 14,
   "metadata": {},
   "outputs": [
    {
     "name": "stdout",
     "output_type": "stream",
     "text": [
      "<class 'pandas.core.frame.DataFrame'>\n",
      "RangeIndex: 4920 entries, 0 to 4919\n",
      "Columns: 133 entries, Unnamed: 0 to Disease\n",
      "dtypes: int64(132), object(1)\n",
      "memory usage: 5.0+ MB\n"
     ]
    }
   ],
   "source": [
    "data.info()"
   ]
  },
  {
   "cell_type": "code",
   "execution_count": 16,
   "metadata": {},
   "outputs": [
    {
     "ename": "ValueError",
     "evalue": "could not convert string to float: 'Dermatologist'",
     "output_type": "error",
     "traceback": [
      "\u001b[1;31m---------------------------------------------------------------------------\u001b[0m",
      "\u001b[1;31mValueError\u001b[0m                                Traceback (most recent call last)",
      "Cell \u001b[1;32mIn[16], line 1\u001b[0m\n\u001b[1;32m----> 1\u001b[0m \u001b[43mdata\u001b[49m\u001b[38;5;241;43m.\u001b[39;49m\u001b[43mcorr\u001b[49m\u001b[43m(\u001b[49m\u001b[43m)\u001b[49m[url]\n",
      "File \u001b[1;32mc:\\Users\\USER\\Desktop\\ML PROJECTS\\doctor recommender system\\model\\env\\Lib\\site-packages\\pandas\\core\\frame.py:11049\u001b[0m, in \u001b[0;36mDataFrame.corr\u001b[1;34m(self, method, min_periods, numeric_only)\u001b[0m\n\u001b[0;32m  11047\u001b[0m cols \u001b[38;5;241m=\u001b[39m data\u001b[38;5;241m.\u001b[39mcolumns\n\u001b[0;32m  11048\u001b[0m idx \u001b[38;5;241m=\u001b[39m cols\u001b[38;5;241m.\u001b[39mcopy()\n\u001b[1;32m> 11049\u001b[0m mat \u001b[38;5;241m=\u001b[39m \u001b[43mdata\u001b[49m\u001b[38;5;241;43m.\u001b[39;49m\u001b[43mto_numpy\u001b[49m\u001b[43m(\u001b[49m\u001b[43mdtype\u001b[49m\u001b[38;5;241;43m=\u001b[39;49m\u001b[38;5;28;43mfloat\u001b[39;49m\u001b[43m,\u001b[49m\u001b[43m \u001b[49m\u001b[43mna_value\u001b[49m\u001b[38;5;241;43m=\u001b[39;49m\u001b[43mnp\u001b[49m\u001b[38;5;241;43m.\u001b[39;49m\u001b[43mnan\u001b[49m\u001b[43m,\u001b[49m\u001b[43m \u001b[49m\u001b[43mcopy\u001b[49m\u001b[38;5;241;43m=\u001b[39;49m\u001b[38;5;28;43;01mFalse\u001b[39;49;00m\u001b[43m)\u001b[49m\n\u001b[0;32m  11051\u001b[0m \u001b[38;5;28;01mif\u001b[39;00m method \u001b[38;5;241m==\u001b[39m \u001b[38;5;124m\"\u001b[39m\u001b[38;5;124mpearson\u001b[39m\u001b[38;5;124m\"\u001b[39m:\n\u001b[0;32m  11052\u001b[0m     correl \u001b[38;5;241m=\u001b[39m libalgos\u001b[38;5;241m.\u001b[39mnancorr(mat, minp\u001b[38;5;241m=\u001b[39mmin_periods)\n",
      "File \u001b[1;32mc:\\Users\\USER\\Desktop\\ML PROJECTS\\doctor recommender system\\model\\env\\Lib\\site-packages\\pandas\\core\\frame.py:1993\u001b[0m, in \u001b[0;36mDataFrame.to_numpy\u001b[1;34m(self, dtype, copy, na_value)\u001b[0m\n\u001b[0;32m   1991\u001b[0m \u001b[38;5;28;01mif\u001b[39;00m dtype \u001b[38;5;129;01mis\u001b[39;00m \u001b[38;5;129;01mnot\u001b[39;00m \u001b[38;5;28;01mNone\u001b[39;00m:\n\u001b[0;32m   1992\u001b[0m     dtype \u001b[38;5;241m=\u001b[39m np\u001b[38;5;241m.\u001b[39mdtype(dtype)\n\u001b[1;32m-> 1993\u001b[0m result \u001b[38;5;241m=\u001b[39m \u001b[38;5;28;43mself\u001b[39;49m\u001b[38;5;241;43m.\u001b[39;49m\u001b[43m_mgr\u001b[49m\u001b[38;5;241;43m.\u001b[39;49m\u001b[43mas_array\u001b[49m\u001b[43m(\u001b[49m\u001b[43mdtype\u001b[49m\u001b[38;5;241;43m=\u001b[39;49m\u001b[43mdtype\u001b[49m\u001b[43m,\u001b[49m\u001b[43m \u001b[49m\u001b[43mcopy\u001b[49m\u001b[38;5;241;43m=\u001b[39;49m\u001b[43mcopy\u001b[49m\u001b[43m,\u001b[49m\u001b[43m \u001b[49m\u001b[43mna_value\u001b[49m\u001b[38;5;241;43m=\u001b[39;49m\u001b[43mna_value\u001b[49m\u001b[43m)\u001b[49m\n\u001b[0;32m   1994\u001b[0m \u001b[38;5;28;01mif\u001b[39;00m result\u001b[38;5;241m.\u001b[39mdtype \u001b[38;5;129;01mis\u001b[39;00m \u001b[38;5;129;01mnot\u001b[39;00m dtype:\n\u001b[0;32m   1995\u001b[0m     result \u001b[38;5;241m=\u001b[39m np\u001b[38;5;241m.\u001b[39masarray(result, dtype\u001b[38;5;241m=\u001b[39mdtype)\n",
      "File \u001b[1;32mc:\\Users\\USER\\Desktop\\ML PROJECTS\\doctor recommender system\\model\\env\\Lib\\site-packages\\pandas\\core\\internals\\managers.py:1694\u001b[0m, in \u001b[0;36mBlockManager.as_array\u001b[1;34m(self, dtype, copy, na_value)\u001b[0m\n\u001b[0;32m   1692\u001b[0m         arr\u001b[38;5;241m.\u001b[39mflags\u001b[38;5;241m.\u001b[39mwriteable \u001b[38;5;241m=\u001b[39m \u001b[38;5;28;01mFalse\u001b[39;00m\n\u001b[0;32m   1693\u001b[0m \u001b[38;5;28;01melse\u001b[39;00m:\n\u001b[1;32m-> 1694\u001b[0m     arr \u001b[38;5;241m=\u001b[39m \u001b[38;5;28;43mself\u001b[39;49m\u001b[38;5;241;43m.\u001b[39;49m\u001b[43m_interleave\u001b[49m\u001b[43m(\u001b[49m\u001b[43mdtype\u001b[49m\u001b[38;5;241;43m=\u001b[39;49m\u001b[43mdtype\u001b[49m\u001b[43m,\u001b[49m\u001b[43m \u001b[49m\u001b[43mna_value\u001b[49m\u001b[38;5;241;43m=\u001b[39;49m\u001b[43mna_value\u001b[49m\u001b[43m)\u001b[49m\n\u001b[0;32m   1695\u001b[0m     \u001b[38;5;66;03m# The underlying data was copied within _interleave, so no need\u001b[39;00m\n\u001b[0;32m   1696\u001b[0m     \u001b[38;5;66;03m# to further copy if copy=True or setting na_value\u001b[39;00m\n\u001b[0;32m   1698\u001b[0m \u001b[38;5;28;01mif\u001b[39;00m na_value \u001b[38;5;129;01mis\u001b[39;00m lib\u001b[38;5;241m.\u001b[39mno_default:\n",
      "File \u001b[1;32mc:\\Users\\USER\\Desktop\\ML PROJECTS\\doctor recommender system\\model\\env\\Lib\\site-packages\\pandas\\core\\internals\\managers.py:1753\u001b[0m, in \u001b[0;36mBlockManager._interleave\u001b[1;34m(self, dtype, na_value)\u001b[0m\n\u001b[0;32m   1751\u001b[0m     \u001b[38;5;28;01melse\u001b[39;00m:\n\u001b[0;32m   1752\u001b[0m         arr \u001b[38;5;241m=\u001b[39m blk\u001b[38;5;241m.\u001b[39mget_values(dtype)\n\u001b[1;32m-> 1753\u001b[0m     \u001b[43mresult\u001b[49m\u001b[43m[\u001b[49m\u001b[43mrl\u001b[49m\u001b[38;5;241;43m.\u001b[39;49m\u001b[43mindexer\u001b[49m\u001b[43m]\u001b[49m \u001b[38;5;241m=\u001b[39m arr\n\u001b[0;32m   1754\u001b[0m     itemmask[rl\u001b[38;5;241m.\u001b[39mindexer] \u001b[38;5;241m=\u001b[39m \u001b[38;5;241m1\u001b[39m\n\u001b[0;32m   1756\u001b[0m \u001b[38;5;28;01mif\u001b[39;00m \u001b[38;5;129;01mnot\u001b[39;00m itemmask\u001b[38;5;241m.\u001b[39mall():\n",
      "\u001b[1;31mValueError\u001b[0m: could not convert string to float: 'Dermatologist'"
     ]
    }
   ],
   "source": [
    "data.corr()[url]"
   ]
  },
  {
   "cell_type": "code",
   "execution_count": 23,
   "metadata": {},
   "outputs": [
    {
     "name": "stdout",
     "output_type": "stream",
     "text": [
      "Collecting scikit-learn\n",
      "  Using cached scikit_learn-1.5.2-cp313-cp313-win_amd64.whl.metadata (13 kB)\n",
      "Requirement already satisfied: numpy>=1.19.5 in c:\\users\\user\\desktop\\ml projects\\doctor recommender system\\model\\env\\lib\\site-packages (from scikit-learn) (2.1.3)\n",
      "Collecting scipy>=1.6.0 (from scikit-learn)\n",
      "  Using cached scipy-1.14.1-cp313-cp313-win_amd64.whl.metadata (60 kB)\n",
      "Collecting joblib>=1.2.0 (from scikit-learn)\n",
      "  Using cached joblib-1.4.2-py3-none-any.whl.metadata (5.4 kB)\n",
      "Collecting threadpoolctl>=3.1.0 (from scikit-learn)\n",
      "  Using cached threadpoolctl-3.5.0-py3-none-any.whl.metadata (13 kB)\n",
      "Using cached scikit_learn-1.5.2-cp313-cp313-win_amd64.whl (11.0 MB)\n",
      "Using cached joblib-1.4.2-py3-none-any.whl (301 kB)\n",
      "Using cached scipy-1.14.1-cp313-cp313-win_amd64.whl (44.5 MB)\n",
      "Using cached threadpoolctl-3.5.0-py3-none-any.whl (18 kB)\n",
      "Installing collected packages: threadpoolctl, scipy, joblib, scikit-learn\n",
      "Successfully installed joblib-1.4.2 scikit-learn-1.5.2 scipy-1.14.1 threadpoolctl-3.5.0\n",
      "Note: you may need to restart the kernel to use updated packages.\n"
     ]
    },
    {
     "name": "stderr",
     "output_type": "stream",
     "text": [
      "\n",
      "[notice] A new release of pip is available: 24.2 -> 24.3.1\n",
      "[notice] To update, run: python.exe -m pip install --upgrade pip\n"
     ]
    }
   ],
   "source": [
    "pip install scikit-learn\n"
   ]
  },
  {
   "cell_type": "code",
   "execution_count": 25,
   "metadata": {},
   "outputs": [
    {
     "name": "stdout",
     "output_type": "stream",
     "text": [
      "Index(['Unnamed: 0', 'itching', ' skin_rash', ' nodal_skin_eruptions',\n",
      "       ' dischromic _patches', ' continuous_sneezing', ' shivering', ' chills',\n",
      "       ' watering_from_eyes', ' stomach_pain',\n",
      "       ...\n",
      "       ' foul_smell_of urine', ' continuous_feel_of_urine', ' skin_peeling',\n",
      "       ' silver_like_dusting', ' small_dents_in_nails', ' inflammatory_nails',\n",
      "       ' blister', ' red_sore_around_nose', ' yellow_crust_ooze', 'Disease'],\n",
      "      dtype='object', length=133)\n"
     ]
    }
   ],
   "source": [
    "print(data.columns)"
   ]
  },
  {
   "cell_type": "code",
   "execution_count": 26,
   "metadata": {},
   "outputs": [
    {
     "data": {
      "text/plain": [
       "Index(['Unnamed: 0', 'itching', 'skin_rash', 'nodal_skin_eruptions',\n",
       "       'dischromic _patches', 'continuous_sneezing', 'shivering', 'chills',\n",
       "       'watering_from_eyes', 'stomach_pain',\n",
       "       ...\n",
       "       'foul_smell_of urine', 'continuous_feel_of_urine', 'skin_peeling',\n",
       "       'silver_like_dusting', 'small_dents_in_nails', 'inflammatory_nails',\n",
       "       'blister', 'red_sore_around_nose', 'yellow_crust_ooze', 'Disease'],\n",
       "      dtype='object', length=133)"
      ]
     },
     "execution_count": 26,
     "metadata": {},
     "output_type": "execute_result"
    }
   ],
   "source": [
    "data.columns.str.strip()"
   ]
  },
  {
   "cell_type": "code",
   "execution_count": 30,
   "metadata": {},
   "outputs": [
    {
     "name": "stdout",
     "output_type": "stream",
     "text": [
      "Index(['Unnamed: 0', 'itching', ' skin_rash', ' nodal_skin_eruptions',\n",
      "       ' dischromic _patches', ' continuous_sneezing', ' shivering', ' chills',\n",
      "       ' watering_from_eyes', ' stomach_pain',\n",
      "       ...\n",
      "       ' foul_smell_of urine', ' continuous_feel_of_urine', ' skin_peeling',\n",
      "       ' silver_like_dusting', ' small_dents_in_nails', ' inflammatory_nails',\n",
      "       ' blister', ' red_sore_around_nose', ' yellow_crust_ooze', 'Disease'],\n",
      "      dtype='object', length=133)\n"
     ]
    }
   ],
   "source": [
    "print(data.columns)\n",
    "\n"
   ]
  },
  {
   "cell_type": "code",
   "execution_count": 36,
   "metadata": {},
   "outputs": [],
   "source": [
    "data['Disease'] = le.fit_transform(data['Disease'])\n"
   ]
  },
  {
   "cell_type": "code",
   "execution_count": 37,
   "metadata": {},
   "outputs": [
    {
     "name": "stdout",
     "output_type": "stream",
     "text": [
      "Unnamed: 0               0.006505\n",
      "itching                 -0.252026\n",
      " skin_rash              -0.376701\n",
      " nodal_skin_eruptions   -0.144975\n",
      " dischromic _patches    -0.144975\n",
      "                           ...   \n",
      " inflammatory_nails     -0.149040\n",
      " blister                -0.149040\n",
      " red_sore_around_nose   -0.149040\n",
      " yellow_crust_ooze      -0.149040\n",
      "Disease                  1.000000\n",
      "Name: Disease, Length: 133, dtype: float64\n"
     ]
    }
   ],
   "source": [
    "numeric_data = data.select_dtypes(include=[np.number])\n",
    "correlation_matrix = numeric_data.corr()['Disease']\n",
    "print(correlation_matrix)"
   ]
  },
  {
   "cell_type": "code",
   "execution_count": 40,
   "metadata": {},
   "outputs": [
    {
     "name": "stdout",
     "output_type": "stream",
     "text": [
      "Error: 'skin_rash' column not found. Check the column names: Index(['Unnamed: 0', 'itching', ' skin_rash', ' nodal_skin_eruptions',\n",
      "       ' dischromic _patches', ' continuous_sneezing', ' shivering', ' chills',\n",
      "       ' watering_from_eyes', ' stomach_pain',\n",
      "       ...\n",
      "       ' foul_smell_of urine', ' continuous_feel_of_urine', ' skin_peeling',\n",
      "       ' silver_like_dusting', ' small_dents_in_nails', ' inflammatory_nails',\n",
      "       ' blister', ' red_sore_around_nose', ' yellow_crust_ooze', 'Disease'],\n",
      "      dtype='object', length=133)\n"
     ]
    }
   ],
   "source": [
    "if 'skin_rash' in data.columns:\n",
    "    print(data['skin_rash'].value_counts())\n",
    "else:\n",
    "    print(\"Error: 'skin_rash' column not found. Check the column names:\", data.columns)\n"
   ]
  },
  {
   "cell_type": "code",
   "execution_count": 41,
   "metadata": {},
   "outputs": [
    {
     "data": {
      "text/plain": [
       " skin_rash\n",
       "0    4134\n",
       "1     786\n",
       "Name: count, dtype: int64"
      ]
     },
     "execution_count": 41,
     "metadata": {},
     "output_type": "execute_result"
    }
   ],
   "source": [
    "data[' skin_rash'].value_counts()"
   ]
  },
  {
   "cell_type": "code",
   "execution_count": 52,
   "metadata": {},
   "outputs": [
    {
     "data": {
      "text/plain": [
       "Disease\n",
       "9     840\n",
       "7     600\n",
       "4     480\n",
       "6     480\n",
       "10    360\n",
       "11    360\n",
       "0     240\n",
       "17    240\n",
       "13    120\n",
       "2     120\n",
       "15    120\n",
       "3     120\n",
       "1     120\n",
       "16    120\n",
       "12    120\n",
       "18    120\n",
       "14    120\n",
       "5     120\n",
       "8     120\n",
       "Name: count, dtype: int64"
      ]
     },
     "execution_count": 52,
     "metadata": {},
     "output_type": "execute_result"
    }
   ],
   "source": [
    "data['Disease'].value_counts()"
   ]
  },
  {
   "cell_type": "code",
   "execution_count": 56,
   "metadata": {},
   "outputs": [],
   "source": [
    "x= data.drop('Disease',axis=1)\n",
    "y=data['Disease']"
   ]
  },
  {
   "cell_type": "code",
   "execution_count": 57,
   "metadata": {},
   "outputs": [],
   "source": [
    "from sklearn.model_selection import train_test_split\n",
    "X_train,X_test,Y_train,Y_test=train_test_split(x,y,test_size=0.25)"
   ]
  },
  {
   "cell_type": "code",
   "execution_count": 58,
   "metadata": {},
   "outputs": [
    {
     "data": {
      "text/plain": [
       "((3690, 132), (1230, 132))"
      ]
     },
     "execution_count": 58,
     "metadata": {},
     "output_type": "execute_result"
    }
   ],
   "source": [
    "X_train.shape,X_test.shape\n"
   ]
  },
  {
   "cell_type": "code",
   "execution_count": 59,
   "metadata": {},
   "outputs": [
    {
     "data": {
      "text/plain": [
       "((3690,), (1230,))"
      ]
     },
     "execution_count": 59,
     "metadata": {},
     "output_type": "execute_result"
    }
   ],
   "source": [
    "Y_train.shape,Y_test.shape"
   ]
  },
  {
   "cell_type": "code",
   "execution_count": 60,
   "metadata": {},
   "outputs": [],
   "source": [
    "def model_acc(model):\n",
    "    model.fit(X_train,Y_train)\n",
    "    acc=model.score(X_test,Y_test)\n",
    "    print(str(model)+\"-->\"+str(acc))"
   ]
  },
  {
   "cell_type": "code",
   "execution_count": 61,
   "metadata": {},
   "outputs": [
    {
     "name": "stdout",
     "output_type": "stream",
     "text": [
      "LogisticRegression()-->0.943089430894309\n"
     ]
    },
    {
     "name": "stderr",
     "output_type": "stream",
     "text": [
      "c:\\Users\\USER\\Desktop\\ML PROJECTS\\doctor recommender system\\model\\env\\Lib\\site-packages\\sklearn\\linear_model\\_logistic.py:469: ConvergenceWarning: lbfgs failed to converge (status=1):\n",
      "STOP: TOTAL NO. of ITERATIONS REACHED LIMIT.\n",
      "\n",
      "Increase the number of iterations (max_iter) or scale the data as shown in:\n",
      "    https://scikit-learn.org/stable/modules/preprocessing.html\n",
      "Please also refer to the documentation for alternative solver options:\n",
      "    https://scikit-learn.org/stable/modules/linear_model.html#logistic-regression\n",
      "  n_iter_i = _check_optimize_result(\n"
     ]
    }
   ],
   "source": [
    "from sklearn.linear_model import LogisticRegression\n",
    "lr=LogisticRegression()\n",
    "model_acc(lr)"
   ]
  },
  {
   "cell_type": "code",
   "execution_count": 62,
   "metadata": {},
   "outputs": [
    {
     "name": "stdout",
     "output_type": "stream",
     "text": [
      "RandomForestClassifier()-->1.0\n"
     ]
    }
   ],
   "source": [
    "from sklearn.ensemble import RandomForestClassifier\n",
    "rf=RandomForestClassifier()\n",
    "model_acc(rf)"
   ]
  },
  {
   "cell_type": "code",
   "execution_count": 63,
   "metadata": {},
   "outputs": [
    {
     "name": "stdout",
     "output_type": "stream",
     "text": [
      "SVC()-->0.16585365853658537\n"
     ]
    }
   ],
   "source": [
    "from sklearn.svm import SVC\n",
    "svc=SVC()\n",
    "model_acc(svc)"
   ]
  },
  {
   "cell_type": "code",
   "execution_count": 64,
   "metadata": {},
   "outputs": [
    {
     "data": {
      "text/plain": [
       "1.0"
      ]
     },
     "execution_count": 64,
     "metadata": {},
     "output_type": "execute_result"
    }
   ],
   "source": [
    "rf.score(X_test,Y_test)"
   ]
  },
  {
   "cell_type": "code",
   "execution_count": 65,
   "metadata": {},
   "outputs": [],
   "source": [
    "import pickle\n",
    "with open(\"predictor.pickle\",\"wb\")as file:\n",
    "    pickle.dump(rf,file)"
   ]
  },
  {
   "cell_type": "code",
   "execution_count": 68,
   "metadata": {},
   "outputs": [
    {
     "data": {
      "text/plain": [
       "Index(['Unnamed: 0', 'itching', ' skin_rash', ' nodal_skin_eruptions',\n",
       "       ' dischromic _patches', ' continuous_sneezing', ' shivering', ' chills',\n",
       "       ' watering_from_eyes', ' stomach_pain',\n",
       "       ...\n",
       "       ' bladder_discomfort', ' foul_smell_of urine',\n",
       "       ' continuous_feel_of_urine', ' skin_peeling', ' silver_like_dusting',\n",
       "       ' small_dents_in_nails', ' inflammatory_nails', ' blister',\n",
       "       ' red_sore_around_nose', ' yellow_crust_ooze'],\n",
       "      dtype='object', length=132)"
      ]
     },
     "execution_count": 68,
     "metadata": {},
     "output_type": "execute_result"
    }
   ],
   "source": [
    "X_train.columns"
   ]
  },
  {
   "cell_type": "code",
   "execution_count": 75,
   "metadata": {},
   "outputs": [
    {
     "name": "stdout",
     "output_type": "stream",
     "text": [
      "   Unnamed: 0  itching   skin_rash   nodal_skin_eruptions  \\\n",
      "0           0        1           1                      1   \n",
      "\n",
      "    dischromic _patches   continuous_sneezing   shivering   chills  \\\n",
      "0                     1                     0           0        0   \n",
      "\n",
      "    watering_from_eyes   stomach_pain   acidity   ulcers_on_tongue   vomiting  \\\n",
      "0                    0              0         0                  0          0   \n",
      "\n",
      "    cough   chest_pain   yellowish_skin   nausea   loss_of_appetite  \\\n",
      "0       0            0                0        0                  0   \n",
      "\n",
      "    abdominal_pain   yellowing_of_eyes   burning_micturition  \\\n",
      "0                0                   0                     0   \n",
      "\n",
      "    spotting_ urination   passage_of_gases   internal_itching   indigestion  \\\n",
      "0                     0                  0                  0             0   \n",
      "\n",
      "    muscle_wasting   patches_in_throat   high_fever   extra_marital_contacts  \\\n",
      "0                0                   0            0                        0   \n",
      "\n",
      "    fatigue   weight_loss   restlessness   lethargy   irregular_sugar_level  \\\n",
      "0         0             0              0          0                       0   \n",
      "\n",
      "    blurred_and_distorted_vision   obesity   excessive_hunger  \\\n",
      "0                              0         0                  0   \n",
      "\n",
      "    increased_appetite   polyuria   sunken_eyes   dehydration   diarrhoea  \\\n",
      "0                    0          0             0             0           0   \n",
      "\n",
      "    breathlessness   family_history   mucoid_sputum   headache   dizziness  \\\n",
      "0                0                0               0          0           0   \n",
      "\n",
      "    loss_of_balance   lack_of_concentration   stiff_neck   depression  \\\n",
      "0                 0                       0            0            0   \n",
      "\n",
      "    irritability   visual_disturbances   back_pain   weakness_in_limbs  \\\n",
      "0              0                     0           0                   0   \n",
      "\n",
      "    neck_pain   weakness_of_one_body_side   altered_sensorium   dark_urine  \\\n",
      "0           0                           0                   0            0   \n",
      "\n",
      "    sweating   muscle_pain   mild_fever   swelled_lymph_nodes   malaise  \\\n",
      "0          0             0            0                     0         0   \n",
      "\n",
      "    red_spots_over_body   joint_pain   pain_behind_the_eyes   constipation  \\\n",
      "0                     0            0                      0              0   \n",
      "\n",
      "    toxic_look_(typhos)   belly_pain   yellow_urine  \\\n",
      "0                     0            0              0   \n",
      "\n",
      "    receiving_blood_transfusion   receiving_unsterile_injections   coma  \\\n",
      "0                             0                                0      0   \n",
      "\n",
      "    stomach_bleeding   acute_liver_failure   swelling_of_stomach  \\\n",
      "0                  0                     0                     0   \n",
      "\n",
      "    distention_of_abdomen   history_of_alcohol_consumption   fluid_overload  \\\n",
      "0                       0                                0                0   \n",
      "\n",
      "    phlegm   blood_in_sputum   throat_irritation   redness_of_eyes  \\\n",
      "0        0                 0                   0                 0   \n",
      "\n",
      "    sinus_pressure   runny_nose   congestion   loss_of_smell  \\\n",
      "0                0            0            0               0   \n",
      "\n",
      "    fast_heart_rate   rusty_sputum   pain_during_bowel_movements  \\\n",
      "0                 0              0                             0   \n",
      "\n",
      "    pain_in_anal_region   bloody_stool   irritation_in_anus   cramps  \\\n",
      "0                     0              0                    0        0   \n",
      "\n",
      "    bruising   swollen_legs   swollen_blood_vessels   prominent_veins_on_calf  \\\n",
      "0          0              0                       0                         0   \n",
      "\n",
      "    weight_gain   cold_hands_and_feets   mood_swings   puffy_face_and_eyes  \\\n",
      "0             0                      0             0                     0   \n",
      "\n",
      "    enlarged_thyroid   brittle_nails   swollen_extremeties  \\\n",
      "0                  0               0                     0   \n",
      "\n",
      "    abnormal_menstruation   muscle_weakness   anxiety   slurred_speech  \\\n",
      "0                       0                 0         0                0   \n",
      "\n",
      "    palpitations   drying_and_tingling_lips   knee_pain   hip_joint_pain  \\\n",
      "0              0                          0           0                0   \n",
      "\n",
      "    swelling_joints   painful_walking   movement_stiffness  \\\n",
      "0                 0                 0                    0   \n",
      "\n",
      "    spinning_movements   unsteadiness   pus_filled_pimples   blackheads  \\\n",
      "0                    0              0                    0            0   \n",
      "\n",
      "    scurring   bladder_discomfort   foul_smell_of urine  \\\n",
      "0          0                    0                     0   \n",
      "\n",
      "    continuous_feel_of_urine   skin_peeling   silver_like_dusting  \\\n",
      "0                          0              0                     0   \n",
      "\n",
      "    small_dents_in_nails   inflammatory_nails   blister  \\\n",
      "0                      0                    0         0   \n",
      "\n",
      "    red_sore_around_nose   yellow_crust_ooze  Disease  \n",
      "0                      0                   0        4  \n"
     ]
    }
   ],
   "source": [
    "import pandas as pd\n",
    "\n",
    "# Set display option to show all columns\n",
    "pd.set_option('display.max_columns', None)\n",
    "\n",
    "\n",
    "# Now when you display the DataFrame, all 132 columns will be shown\n",
    "print(data.head(1))\n"
   ]
  },
  {
   "cell_type": "code",
   "execution_count": null,
   "metadata": {},
   "outputs": [],
   "source": []
  }
 ],
 "metadata": {
  "kernelspec": {
   "display_name": "env",
   "language": "python",
   "name": "python3"
  },
  "language_info": {
   "codemirror_mode": {
    "name": "ipython",
    "version": 3
   },
   "file_extension": ".py",
   "mimetype": "text/x-python",
   "name": "python",
   "nbconvert_exporter": "python",
   "pygments_lexer": "ipython3",
   "version": "3.13.0"
  }
 },
 "nbformat": 4,
 "nbformat_minor": 2
}
